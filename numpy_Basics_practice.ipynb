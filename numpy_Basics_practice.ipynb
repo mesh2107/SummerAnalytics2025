{
  "nbformat": 4,
  "nbformat_minor": 0,
  "metadata": {
    "colab": {
      "provenance": []
    },
    "kernelspec": {
      "name": "python3",
      "display_name": "Python 3"
    },
    "language_info": {
      "name": "python"
    }
  },
  "cells": [
    {
      "cell_type": "code",
      "execution_count": 1,
      "metadata": {
        "colab": {
          "base_uri": "https://localhost:8080/"
        },
        "id": "EdL-hBPCNSZp",
        "outputId": "1a1f97cb-3e28-419b-dde8-bb227e648ef5"
      },
      "outputs": [
        {
          "output_type": "stream",
          "name": "stdout",
          "text": [
            "Requirement already satisfied: numpy in /usr/local/lib/python3.11/dist-packages (2.0.2)\n"
          ]
        }
      ],
      "source": [
        "pip install numpy\n"
      ]
    },
    {
      "cell_type": "code",
      "source": [
        "import numpy as np"
      ],
      "metadata": {
        "id": "O4sqeePjNrCG"
      },
      "execution_count": 2,
      "outputs": []
    },
    {
      "cell_type": "code",
      "source": [
        "print(\"hello world\")"
      ],
      "metadata": {
        "colab": {
          "base_uri": "https://localhost:8080/"
        },
        "id": "V81rAG7JP1qP",
        "outputId": "596abc81-1e15-4192-89f6-ee5ec4cbc204"
      },
      "execution_count": 3,
      "outputs": [
        {
          "output_type": "stream",
          "name": "stdout",
          "text": [
            "hello world\n"
          ]
        }
      ]
    },
    {
      "cell_type": "code",
      "source": [
        "#difference between python list and numpy array\n",
        "python_list=[1,2,3,4,5]\n",
        "print(python_list)\n",
        "\n",
        "import numpy as np\n",
        "numpy_array= np.array([6,7,8,9,10])\n",
        "print(numpy_array)"
      ],
      "metadata": {
        "colab": {
          "base_uri": "https://localhost:8080/"
        },
        "id": "ILruuqIZP5px",
        "outputId": "2875d51d-7381-4e0e-ed04-569d3f66ca00"
      },
      "execution_count": 5,
      "outputs": [
        {
          "output_type": "stream",
          "name": "stdout",
          "text": [
            "[1, 2, 3, 4, 5]\n",
            "[ 6  7  8  9 10]\n"
          ]
        }
      ]
    },
    {
      "cell_type": "code",
      "source": [
        "#creation of array with default values\n",
        "\n",
        "#zero value array\n",
        "#np.zeros(shape)   (3) for 1d array and ((3,3)) for 2d array\n",
        "print(\"zero array\")\n",
        "zero_arr= np.zeros(3)\n",
        "print(zero_arr)\n",
        "\n",
        "zero_arr_2d= np.zeros((3,4))\n",
        "print(zero_arr_2d)\n",
        "\n",
        "\n",
        "#ones(shape)\n",
        "print(\"ones array\")\n",
        "ones_arr= np.ones((3,2))\n",
        "print(ones_arr)\n",
        "\n",
        "\n",
        "#for specific values : full function\n",
        "#full(shape,value)\n",
        "print(\"full function\")\n",
        "arr = np.full((3,2),78)\n",
        "print(arr)"
      ],
      "metadata": {
        "colab": {
          "base_uri": "https://localhost:8080/"
        },
        "id": "EWqSlmqaWbBQ",
        "outputId": "bb1aec68-c1b9-412d-f1e8-c74a0115c0bd"
      },
      "execution_count": 11,
      "outputs": [
        {
          "output_type": "stream",
          "name": "stdout",
          "text": [
            "zero array\n",
            "[0. 0. 0.]\n",
            "[[0. 0. 0. 0.]\n",
            " [0. 0. 0. 0.]\n",
            " [0. 0. 0. 0.]]\n",
            "ones array\n",
            "[[1. 1.]\n",
            " [1. 1.]\n",
            " [1. 1.]]\n",
            "full function\n",
            "[[78 78]\n",
            " [78 78]\n",
            " [78 78]]\n"
          ]
        }
      ]
    },
    {
      "cell_type": "code",
      "source": [
        "#creating sequence of numbers\n",
        "#arange function\n",
        "#arange(start,stop,step)\n",
        "print(\"sequence of numbers\")\n",
        "range = np.arange(1,20,3)\n",
        "print(range)"
      ],
      "metadata": {
        "colab": {
          "base_uri": "https://localhost:8080/"
        },
        "id": "q5qa2p07ZyOv",
        "outputId": "2f48a7c2-2c6d-4d79-dbc0-29d470edd465"
      },
      "execution_count": 13,
      "outputs": [
        {
          "output_type": "stream",
          "name": "stdout",
          "text": [
            "sequence of numbers\n",
            "[ 1  4  7 10 13 16 19]\n"
          ]
        }
      ]
    },
    {
      "cell_type": "code",
      "source": [
        "#creatig identity matrix\n",
        "#eye function\n",
        "#eye(size)\n",
        "print(\"identity matrix\")\n",
        "identity = np.eye(2)\n",
        "id2 = np.eye(3)\n",
        "id3 = np.eye(4)\n",
        "\n",
        "print(\"size:2\",identity)\n",
        "print(\"size:3\",id2)\n",
        "print(\"size:4\",id3)"
      ],
      "metadata": {
        "colab": {
          "base_uri": "https://localhost:8080/"
        },
        "id": "qjF4FML0gf4h",
        "outputId": "e91e28be-276b-4bb3-dd82-c918be046724"
      },
      "execution_count": 16,
      "outputs": [
        {
          "output_type": "stream",
          "name": "stdout",
          "text": [
            "identity matrix\n",
            "size:2 [[1. 0.]\n",
            " [0. 1.]]\n",
            "size:3 [[1. 0. 0.]\n",
            " [0. 1. 0.]\n",
            " [0. 0. 1.]]\n",
            "size:4 [[1. 0. 0. 0.]\n",
            " [0. 1. 0. 0.]\n",
            " [0. 0. 1. 0.]\n",
            " [0. 0. 0. 1.]]\n"
          ]
        }
      ]
    },
    {
      "cell_type": "code",
      "source": [],
      "metadata": {
        "id": "dUqTQDnzhlQa"
      },
      "execution_count": null,
      "outputs": []
    }
  ]
}